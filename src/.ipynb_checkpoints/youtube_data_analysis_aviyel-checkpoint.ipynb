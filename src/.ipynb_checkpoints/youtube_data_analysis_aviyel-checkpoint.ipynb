{
 "cells": [
  {
   "cell_type": "markdown",
   "metadata": {},
   "source": [
    "## PYTHON YOUTUBE DATA ANALYSIS. \n",
    "### Using a search keyword e.g python \n"
   ]
  },
  {
   "cell_type": "code",
   "execution_count": 1691,
   "metadata": {},
   "outputs": [],
   "source": [
    "import requests\n",
    "import numpy as np \n",
    "import pandas as pd\n",
    "import json \n",
    "import aniso8601"
   ]
  },
  {
   "cell_type": "code",
   "execution_count": null,
   "metadata": {},
   "outputs": [],
   "source": []
  },
  {
   "cell_type": "code",
   "execution_count": 1707,
   "metadata": {},
   "outputs": [],
   "source": [
    "import matplotlib.pyplot as plt\n",
    "%matplotlib inline\n",
    "import psycopg2\n",
    "import sys\n",
    "import csv\n",
    "import matplotlib.pyplot as plt\n",
    "from datetime import datetime\n",
    "\n",
    "now = datetime.now()\n"
   ]
  },
  {
   "cell_type": "markdown",
   "metadata": {},
   "source": [
    "### Define  varibales\n",
    "\n",
    "#### API_KEY,search_keyword,max_result,file_directory"
   ]
  },
  {
   "cell_type": "code",
   "execution_count": 1749,
   "metadata": {},
   "outputs": [],
   "source": [
    "API_KEY = ''\n",
    "search_keyword = 'Python'\n",
    "max_result = 400\n",
    "# enter directory to store the  files e.g  '/Users/mac/Desktop/rkimera/aviyel'\n",
    "\n",
    "file_directory = '/Users/mac/Desktop/rkimera/aviyel'"
   ]
  },
  {
   "cell_type": "code",
   "execution_count": 1750,
   "metadata": {},
   "outputs": [],
   "source": [
    "# extract the youtube data by search keyword. \n",
    "# The data is then stored in a json file. \n"
   ]
  },
  {
   "cell_type": "code",
   "execution_count": null,
   "metadata": {},
   "outputs": [],
   "source": []
  },
  {
   "cell_type": "code",
   "execution_count": null,
   "metadata": {},
   "outputs": [],
   "source": []
  },
  {
   "cell_type": "code",
   "execution_count": 1751,
   "metadata": {},
   "outputs": [],
   "source": [
    "# postgres database setup "
   ]
  },
  {
   "cell_type": "markdown",
   "metadata": {},
   "source": [
    "## Database setup:  postgreSQL database server\n",
    "### Create Database aviyel  and establish a postgres-python connecrtion using psycopg python  to connect to the aviyel database.\n",
    "##### Create the following tabels  on schema public\n",
    "###### - yt_vidoes ,  videos_tags,videos_statistics\n",
    "\n"
   ]
  },
  {
   "cell_type": "code",
   "execution_count": null,
   "metadata": {},
   "outputs": [],
   "source": []
  },
  {
   "cell_type": "markdown",
   "metadata": {},
   "source": [
    "### Note:  Please Enter the database connection parameters .  on pg_conn\n",
    "###### user\n",
    "###### password\n",
    "###### dbname\n",
    "###### host\n"
   ]
  },
  {
   "cell_type": "code",
   "execution_count": null,
   "metadata": {},
   "outputs": [],
   "source": []
  },
  {
   "cell_type": "code",
   "execution_count": 1753,
   "metadata": {},
   "outputs": [],
   "source": [
    "# postgres database connection \n",
    "\n",
    "pg_conn = psycopg2.connect(\"host='localhost' dbname='aviyel' user='db_user' password='db_password'\")\n",
    "#\n",
    "cur = pg_conn.cursor()"
   ]
  },
  {
   "cell_type": "code",
   "execution_count": 1754,
   "metadata": {},
   "outputs": [],
   "source": [
    "# create yt_video table \n",
    "\n",
    "cur.execute(\"\"\"CREATE TABLE IF NOT EXISTS  yt_videos\n",
    "(\n",
    "    id SERIAL NOT NULL primary key,\n",
    "    video_id character varying(100) Unique NOT NULL,\n",
    "    kind character varying(100)  NOT NULL,\n",
    "    created_at timestamp(0) without time zone,\n",
    "    updated_at timestamp(0) without time zone \n",
    ")\n",
    "\n",
    "\"\"\")\n"
   ]
  },
  {
   "cell_type": "code",
   "execution_count": 1755,
   "metadata": {},
   "outputs": [],
   "source": [
    "# create video_tags table \n",
    "\n",
    "cur.execute(\"\"\"CREATE TABLE IF NOT EXISTS video_tags\n",
    "(\n",
    "    id SERIAL NOT NULL primary key,\n",
    "    video_id character varying(100) NOT NULL, \n",
    "    tag character varying(100),\n",
    "    created_at timestamp(0) without time zone,\n",
    "    updated_at timestamp(0) without time zone ,\n",
    "    constraint fk_video_id Foreign key(video_id) references yt_videos(video_id)\n",
    ")\n",
    "\"\"\")\n"
   ]
  },
  {
   "cell_type": "code",
   "execution_count": 1756,
   "metadata": {},
   "outputs": [],
   "source": [
    "# create vidoe_statistics\n",
    "cur.execute(\"\"\"CREATE TABLE  IF NOT EXISTS video_statistics \n",
    "(\n",
    "    id SERIAL NOT NULL primary key,\n",
    "    video_id character varying(100) Unique NOT NULL,\n",
    "    view_count bigint,\n",
    "    like_count bigint,\n",
    "    favorite_count bigint,\n",
    "    comment_count bigint, \n",
    "    created_at timestamp(0) without time zone,\n",
    "    updated_at timestamp(0) without time zone ,\n",
    "    constraint fk_video_id Foreign key(video_id) references yt_videos(video_id)\n",
    "    \n",
    "    \n",
    ")\n",
    "\"\"\")\n"
   ]
  },
  {
   "cell_type": "code",
   "execution_count": 1757,
   "metadata": {},
   "outputs": [],
   "source": [
    "# create vidoe_statistics\n",
    "cur.execute(\"\"\"CREATE TABLE  IF NOT EXISTS video_duration\n",
    "(\n",
    "    id SERIAL NOT NULL primary key,\n",
    "    video_id character varying(100) Unique NOT NULL,\n",
    "    video_duration bigint,\n",
    "    created_at timestamp(0) without time zone,\n",
    "    updated_at timestamp(0) without time zone ,\n",
    "    constraint fk_video_id Foreign key(video_id) references yt_videos(video_id)\n",
    "    \n",
    "    \n",
    ")\n",
    "\"\"\")"
   ]
  },
  {
   "cell_type": "markdown",
   "metadata": {},
   "source": [
    "#### After setting up database system. Extract the data from the youtube data API, based on the search keyword. "
   ]
  },
  {
   "cell_type": "code",
   "execution_count": 1758,
   "metadata": {},
   "outputs": [],
   "source": [
    "class YouTubeData:\n",
    "    def __init__(self, api_key, search_keyword,max_result):\n",
    "        self.api_key = api_key\n",
    "        self.max_result = max_result\n",
    "        self.search_keyword = search_keyword\n",
    "        self.search_youtube_data = None\n",
    "            \n",
    "    def get_data_by_search_keyword(self):\n",
    "        url = f'https://youtube.googleapis.com/youtube/v3/search?order=viewCount&q={self.search_keyword}&key={self.api_key}&maxResults={self.max_result}'\n",
    "        json_url = requests.get(url)\n",
    "        data = json.loads(json_url.text)        \n",
    "        try:\n",
    "            data = data['items']\n",
    "            print('Number of videos',len(data))\n",
    "        except:\n",
    "            data = None\n",
    "        self.search_youtube_data = data            \n",
    "        return data\n",
    "    \n",
    "    # function to dump data into the json file\n",
    "    \n",
    "    def dump_file(self):\n",
    "        if self.search_youtube_data is None:\n",
    "            return\n",
    "        #api data\n",
    "        search_keyword = self.search_keyword.replace(\" \",\"_\").lower()  \n",
    "        \n",
    "        file_name  = search_keyword +'.json'\n",
    "        videos_file_name  = search_keyword+'_videos' +'.json'\n",
    "\n",
    "        with open(file_name,'w') as f:\n",
    "            \n",
    "            json.dump(self.search_youtube_data,f,indent=4)\n",
    "            \n",
    "        print('file dumped')\n",
    "        \n",
    "    \n",
    "\n",
    "        \n",
    "        \n",
    "    def dump_video_file(self):\n",
    "        if self.search_youtube_data is None:\n",
    "            return\n",
    "        #api data\n",
    "        search_keyword = self.search_keyword.replace(\" \",\"_\").lower()  \n",
    "        # array of video data\n",
    "        videos = []\n",
    "        videoData = self.search_youtube_data\n",
    "        for index in range(len(videoData)):\n",
    "            \n",
    "            videos.append(videoData[index]['id'])\n",
    "\n",
    "        videos_file_name  = search_keyword+'_videos' +'.json'\n",
    "\n",
    "        \n",
    "        with open(videos_file_name,'w') as f:\n",
    "            videos = videos\n",
    "            json.dump(videos,f,indent=4)\n",
    "        print('Video  Data Stored')\n",
    "         \n",
    "        \n",
    "        \n",
    "        \n",
    "        \n",
    "        "
   ]
  },
  {
   "cell_type": "code",
   "execution_count": null,
   "metadata": {},
   "outputs": [],
   "source": []
  },
  {
   "cell_type": "code",
   "execution_count": 1759,
   "metadata": {},
   "outputs": [],
   "source": [
    "youTubeDataset = YouTubeData(API_KEY, search_keyword,max_result)"
   ]
  },
  {
   "cell_type": "code",
   "execution_count": 1760,
   "metadata": {},
   "outputs": [],
   "source": [
    "youTubeDataset.get_data_by_search_keyword()"
   ]
  },
  {
   "cell_type": "code",
   "execution_count": null,
   "metadata": {},
   "outputs": [],
   "source": []
  },
  {
   "cell_type": "code",
   "execution_count": 1761,
   "metadata": {},
   "outputs": [],
   "source": [
    "youTubeDataset.dump_file()"
   ]
  },
  {
   "cell_type": "code",
   "execution_count": 1762,
   "metadata": {},
   "outputs": [],
   "source": [
    "youTubeDataset.dump_video_file()"
   ]
  },
  {
   "cell_type": "code",
   "execution_count": 1763,
   "metadata": {},
   "outputs": [],
   "source": [
    "# fetch vidoe details  "
   ]
  },
  {
   "cell_type": "code",
   "execution_count": 1764,
   "metadata": {},
   "outputs": [],
   "source": [
    "BASE_ulr = 'https://youtube.googleapis.com/youtube/v3'"
   ]
  },
  {
   "cell_type": "code",
   "execution_count": null,
   "metadata": {},
   "outputs": [],
   "source": []
  },
  {
   "cell_type": "code",
   "execution_count": 1765,
   "metadata": {},
   "outputs": [],
   "source": [
    "class VideoDetails:\n",
    "    def __init__(self,api_key ,get_videos):\n",
    "        self.api_key = api_key\n",
    "        self.get_videos = get_videos\n",
    "        self.video_details = None\n",
    "        \n",
    "    def get_details_all_videos(self):\n",
    "        all_video_details = []\n",
    "        \n",
    "        filterList = ['youtube#video']        \n",
    "        \n",
    "        youtubeVidoes = [d for d in self.get_videos if d['kind'] in filterList]\n",
    "                                      \n",
    "        for i in range(len(youtubeVidoes)):\n",
    "            videoId = youtubeVidoes[i]['videoId']\n",
    "                                      \n",
    "            url = f'{BASE_ulr}/videos?part=snippet&part=contentDetails&part=statistics&id={videoId}&key={self.api_key}'\n",
    "            json_url = requests.get(url)\n",
    "            data = json.loads(json_url.text)  \n",
    "            try:\n",
    "                \n",
    "                statistics = data['items'][0]['statistics']\n",
    "                \n",
    "                if 'contentDetails' in data['items'][0]:\n",
    "                    duration = data['items'][0]['contentDetails']['duration']\n",
    "                else:\n",
    "                    duration = 0\n",
    "                                \n",
    "                if 'tags' in data['items'][0]['snippet']:\n",
    "                    tags = data['items'][0]['snippet']['tags']\n",
    "                else:\n",
    "                    tags =[]\n",
    "                    \n",
    "                    \n",
    "                id = data['items'][0]['id']\n",
    "                \n",
    "                kind = data['items'][0]['kind']\n",
    "                \n",
    "                \n",
    "                vidoeo_dict = dict({\"id\":id,\"kind\":kind,\"statistics\":statistics,\"tags\":tags,\"duration\":duration})\n",
    "                \n",
    "                all_video_details.append(vidoeo_dict)\n",
    "            except:\n",
    "                all_video_details = None\n",
    "            \n",
    "        self.video_details = all_video_details\n",
    "        return all_video_details\n",
    "\n",
    "    "
   ]
  },
  {
   "cell_type": "code",
   "execution_count": null,
   "metadata": {},
   "outputs": [],
   "source": []
  },
  {
   "cell_type": "code",
   "execution_count": 1766,
   "metadata": {},
   "outputs": [],
   "source": [
    "read_vidoes = open('python_videos.json')\n",
    "get_videos = json.load(read_vidoes)\n"
   ]
  },
  {
   "cell_type": "code",
   "execution_count": null,
   "metadata": {},
   "outputs": [],
   "source": []
  },
  {
   "cell_type": "code",
   "execution_count": 1767,
   "metadata": {},
   "outputs": [],
   "source": [
    "class load_data_to_db:\n",
    "    def __init__(self,data):\n",
    "        self.data = data\n",
    "        \n",
    "        \n",
    "    def load_video_data(self):\n",
    "        filterList = ['youtube#video']        \n",
    "        youtubeVidoes = [d for d in self.data if d['kind'] in filterList]\n",
    "        data = youtubeVidoes\n",
    "        \n",
    "        for i in range(len(data)):\n",
    "                row = data[i]\n",
    "                sql = \"\"\"INSERT INTO public.yt_videos(video_id,kind\n",
    "                )VALUES(\n",
    "                '%s','%s'\n",
    "                );\"\"\"%(row['videoId'],row['kind'])\n",
    "                print(sql)\n",
    "                \n",
    "                cur.execute(sql)\n",
    "                \n",
    "                pg_conn.commit()\n",
    "    \n",
    "    def load_video_statistics(self):\n",
    "        data=self.data\n",
    "        \n",
    "        for i in range(len(data)):\n",
    "            row = data[i]\n",
    "            sql = \"\"\"INSERT INTO public.video_statistics(video_id,view_count,like_count,favorite_count,comment_count\n",
    "            )VALUES(\n",
    "            '%s','%s','%s','%s','%s'\n",
    "            );\"\"\" %(row['id'],row['statistics']['viewCount'],row['statistics']['likeCount'],row['statistics']\n",
    "                    ['favoriteCount'],row['statistics']['commentCount'])\n",
    "            \n",
    "            print(sql)\n",
    "            \n",
    "            cur.execute(sql)\n",
    "            pg_conn.commit()\n",
    "            \n",
    "    def load_video_tags(self):\n",
    "        data=self.data\n",
    "        \n",
    "        for i in range(len(data)):\n",
    "            row = data[i]\n",
    "            for f in range(len(row['tags'])):\n",
    "                \n",
    "                tag = row['tags'][i]\n",
    "                \n",
    "                \n",
    "                sql = \"\"\"INSERT INTO public.video_tags(video_id,tag\n",
    "                )VALUES('%s','%s');\"\"\" %(row['id'],tag)\n",
    "                print(sql)\n",
    "                \n",
    "                cur.execute(sql)\n",
    "                pg_conn.commit()\n",
    "                \n",
    "    def load_video_duration(self):\n",
    "        data = self.data\n",
    "        for i in range(len(data)):\n",
    "            row = data[i]\n",
    "            print(row)\n",
    "            \n",
    "            #video_duration = row['duration']\n",
    "            duration_data = row['duration']\n",
    "            \n",
    "            day_time = duration_data.split('T')\n",
    "            day_duration = day_time[0].replace('P', '')\n",
    "            day_list = day_duration.split('D')\n",
    "            \n",
    "            if len(day_list) == 2:\n",
    "                day = int(day_list[0]) * 60 * 60 * 24\n",
    "                day_list = day_list[1]\n",
    "            else:\n",
    "                day = 0\n",
    "                day_list = day_list[0]\n",
    "                hour_list = day_time[1].split('H')\n",
    "            if len(hour_list) == 2:\n",
    "                hour = int(hour_list[0]) * 60 * 60\n",
    "                hour_list = hour_list[1]\n",
    "            else:\n",
    "                hour = 0\n",
    "                hour_list = hour_list[0]\n",
    "                minute_list = hour_list.split('M')\n",
    "            if len(minute_list) == 2:\n",
    "                minute = int(minute_list[0]) * 60\n",
    "                minute_list = minute_list[1]\n",
    "            else:\n",
    "                minute = 0\n",
    "                minute_list = minute_list[0]\n",
    "            second_list = minute_list.split('S')\n",
    "            if len(second_list) == 2:\n",
    "                second = int(second_list[0])\n",
    "            else:\n",
    "                second = 0\n",
    "            video_duration =  day + hour + minute + second\n",
    "\n",
    "\n",
    "            #video_duration = yt_duration_covert_to_sce(row['duration'])\n",
    "                  \n",
    "            print(duration)\n",
    "                  \n",
    "            sql = \"\"\"INSERT INTO public.video_duration(video_id,video_duration,created_at,updated_at)VALUES(\n",
    "            '%s','%s','%s','%s'\n",
    "            )\"\"\"%(row['id'],video_duration,now,now)\n",
    "            \n",
    "            print(sql)\n",
    "            \n",
    "            cur.execute(sql)\n",
    "            pg_conn.commit()\n",
    "    "
   ]
  },
  {
   "cell_type": "code",
   "execution_count": null,
   "metadata": {},
   "outputs": [],
   "source": []
  },
  {
   "cell_type": "code",
   "execution_count": 1634,
   "metadata": {},
   "outputs": [],
   "source": [
    "load_vidoes = load_data_to_db(get_videos)"
   ]
  },
  {
   "cell_type": "code",
   "execution_count": 1686,
   "metadata": {},
   "outputs": [],
   "source": [
    "load_vidoes.load_video_data()"
   ]
  },
  {
   "cell_type": "code",
   "execution_count": 1636,
   "metadata": {},
   "outputs": [],
   "source": [
    "get_video_details = VideoDetails(API_KEY,get_videos)"
   ]
  },
  {
   "cell_type": "code",
   "execution_count": 1637,
   "metadata": {},
   "outputs": [],
   "source": [
    "get_video_stat = get_video_details.get_details_all_videos()"
   ]
  },
  {
   "cell_type": "code",
   "execution_count": 1687,
   "metadata": {},
   "outputs": [],
   "source": [
    "get_video_stat"
   ]
  },
  {
   "cell_type": "code",
   "execution_count": null,
   "metadata": {},
   "outputs": [],
   "source": []
  },
  {
   "cell_type": "code",
   "execution_count": 1639,
   "metadata": {},
   "outputs": [],
   "source": [
    "load_vidoes = load_data_to_db(get_video_stat)"
   ]
  },
  {
   "cell_type": "code",
   "execution_count": 1643,
   "metadata": {},
   "outputs": [],
   "source": [
    "pg_conn = psycopg2.connect(\"host='localhost' dbname='aviyel' user='db_user' password='db_password'\")\n",
    "#\n",
    "cur = pg_conn.cursor()"
   ]
  },
  {
   "cell_type": "code",
   "execution_count": null,
   "metadata": {},
   "outputs": [],
   "source": []
  },
  {
   "cell_type": "code",
   "execution_count": 1688,
   "metadata": {},
   "outputs": [],
   "source": [
    "load_vidoes.load_video_statistics()"
   ]
  },
  {
   "cell_type": "code",
   "execution_count": 1646,
   "metadata": {},
   "outputs": [],
   "source": [
    "# postgres database connection \n",
    "\n",
    "pg_conn = psycopg2.connect(\"host='localhost' dbname='aviyel' user='db_user' password='db_password'\")\n",
    "#\n",
    "cur = pg_conn.cursor()"
   ]
  },
  {
   "cell_type": "code",
   "execution_count": null,
   "metadata": {},
   "outputs": [],
   "source": []
  },
  {
   "cell_type": "code",
   "execution_count": 1689,
   "metadata": {},
   "outputs": [],
   "source": [
    "load_vidoes.load_video_duration()"
   ]
  },
  {
   "cell_type": "code",
   "execution_count": 1674,
   "metadata": {},
   "outputs": [],
   "source": [
    "pg_conn = psycopg2.connect(\"host='localhost' dbname='aviyel' user='db_user' password='db_password'\")\n",
    "#\n",
    "cur = pg_conn.cursor()"
   ]
  },
  {
   "cell_type": "code",
   "execution_count": 1690,
   "metadata": {},
   "outputs": [],
   "source": [
    "load_vidoes.load_video_tags()"
   ]
  },
  {
   "cell_type": "code",
   "execution_count": null,
   "metadata": {},
   "outputs": [],
   "source": []
  },
  {
   "cell_type": "markdown",
   "metadata": {},
   "source": [
    "### Data Analysis \n",
    "\n",
    "### Data analysis using python, pandas, numpy\n",
    "###  Data visualisation  using matplotlib  other BI tools like Tableau or apache superset can be used to connect to the database views. "
   ]
  },
  {
   "cell_type": "code",
   "execution_count": null,
   "metadata": {},
   "outputs": [],
   "source": []
  },
  {
   "cell_type": "markdown",
   "metadata": {},
   "source": [
    "#### Tag And Video Anaylysis"
   ]
  },
  {
   "cell_type": "code",
   "execution_count": 1655,
   "metadata": {},
   "outputs": [],
   "source": [
    "# create database view: Summary of tags vs number of vidoes \n",
    "\n",
    "cur.execute(\"\"\" CREATE OR REPLACE VIEW public.tag_video_report\n",
    "AS\n",
    "\n",
    "select\n",
    "tag as tag,\n",
    "count(*) as number_of_videos\n",
    "\n",
    "from video_tags\n",
    "group by tag\n",
    "\n",
    "\"\"\")"
   ]
  },
  {
   "cell_type": "code",
   "execution_count": 1657,
   "metadata": {},
   "outputs": [],
   "source": [
    "# Tag vs ava video duration \n",
    "cur.execute(\"\"\" CREATE OR REPLACE VIEW public.tag_vs_avg_video_duration\n",
    "AS\n",
    "select \n",
    "vt.tag as tag,\n",
    "ROUND(AVG (vd.video_duration) ::bigint, 0) as video_duration\n",
    "from video_tags as vt\n",
    "left join video_duration as vd\n",
    "on vd.video_id = vt.video_id\n",
    "group by vt.tag\n",
    "\n",
    "\"\"\")"
   ]
  },
  {
   "cell_type": "code",
   "execution_count": null,
   "metadata": {},
   "outputs": [],
   "source": []
  },
  {
   "cell_type": "code",
   "execution_count": null,
   "metadata": {},
   "outputs": [],
   "source": []
  },
  {
   "cell_type": "code",
   "execution_count": null,
   "metadata": {},
   "outputs": [],
   "source": []
  },
  {
   "cell_type": "code",
   "execution_count": 1671,
   "metadata": {},
   "outputs": [],
   "source": [
    "# fetch tag_video_report\n",
    "cur.execute(\"\"\"select * from tag_video_report\"\"\")\n",
    "tag_video = cur.fetchall()\n"
   ]
  },
  {
   "cell_type": "code",
   "execution_count": null,
   "metadata": {},
   "outputs": [],
   "source": []
  },
  {
   "cell_type": "code",
   "execution_count": 1675,
   "metadata": {},
   "outputs": [],
   "source": [
    "# fetch tag_video_report\n",
    "cur.execute(\"\"\"select * from tag_vs_avg_video_duration\"\"\")\n",
    "tag_video_duration = cur.fetchall()\n"
   ]
  },
  {
   "cell_type": "code",
   "execution_count": 1676,
   "metadata": {},
   "outputs": [],
   "source": [
    "# column names \n",
    "tag_video_columns = ['tag','number of videos']\n",
    "tag_video_duration_cols = ['tag','video_duration']"
   ]
  },
  {
   "cell_type": "code",
   "execution_count": 1677,
   "metadata": {},
   "outputs": [
    {
     "data": {
      "text/html": [
       "<div>\n",
       "<style scoped>\n",
       "    .dataframe tbody tr th:only-of-type {\n",
       "        vertical-align: middle;\n",
       "    }\n",
       "\n",
       "    .dataframe tbody tr th {\n",
       "        vertical-align: top;\n",
       "    }\n",
       "\n",
       "    .dataframe thead th {\n",
       "        text-align: right;\n",
       "    }\n",
       "</style>\n",
       "<table border=\"1\" class=\"dataframe\">\n",
       "  <thead>\n",
       "    <tr style=\"text-align: right;\">\n",
       "      <th></th>\n",
       "      <th>tag</th>\n",
       "      <th>number of videos</th>\n",
       "    </tr>\n",
       "  </thead>\n",
       "  <tbody>\n",
       "    <tr>\n",
       "      <th>0</th>\n",
       "      <td>alligator</td>\n",
       "      <td>35</td>\n",
       "    </tr>\n",
       "    <tr>\n",
       "      <th>1</th>\n",
       "      <td>larva song</td>\n",
       "      <td>29</td>\n",
       "    </tr>\n",
       "    <tr>\n",
       "      <th>2</th>\n",
       "      <td>reality show</td>\n",
       "      <td>29</td>\n",
       "    </tr>\n",
       "    <tr>\n",
       "      <th>3</th>\n",
       "      <td>lighter</td>\n",
       "      <td>14</td>\n",
       "    </tr>\n",
       "    <tr>\n",
       "      <th>4</th>\n",
       "      <td>prehistoricpetstv</td>\n",
       "      <td>21</td>\n",
       "    </tr>\n",
       "    <tr>\n",
       "      <th>5</th>\n",
       "      <td>python language</td>\n",
       "      <td>14</td>\n",
       "    </tr>\n",
       "    <tr>\n",
       "      <th>6</th>\n",
       "      <td>Life</td>\n",
       "      <td>30</td>\n",
       "    </tr>\n",
       "    <tr>\n",
       "      <th>7</th>\n",
       "      <td>pet</td>\n",
       "      <td>38</td>\n",
       "    </tr>\n",
       "    <tr>\n",
       "      <th>8</th>\n",
       "      <td>Eric Idle</td>\n",
       "      <td>30</td>\n",
       "    </tr>\n",
       "    <tr>\n",
       "      <th>9</th>\n",
       "      <td>python (programming language)</td>\n",
       "      <td>23</td>\n",
       "    </tr>\n",
       "    <tr>\n",
       "      <th>10</th>\n",
       "      <td>reptile</td>\n",
       "      <td>60</td>\n",
       "    </tr>\n",
       "    <tr>\n",
       "      <th>11</th>\n",
       "      <td>impala lamb</td>\n",
       "      <td>25</td>\n",
       "    </tr>\n",
       "    <tr>\n",
       "      <th>12</th>\n",
       "      <td>soup</td>\n",
       "      <td>11</td>\n",
       "    </tr>\n",
       "  </tbody>\n",
       "</table>\n",
       "</div>"
      ],
      "text/plain": [
       "                              tag  number of videos\n",
       "0                       alligator                35\n",
       "1                      larva song                29\n",
       "2                    reality show                29\n",
       "3                         lighter                14\n",
       "4               prehistoricpetstv                21\n",
       "5                 python language                14\n",
       "6                            Life                30\n",
       "7                             pet                38\n",
       "8                       Eric Idle                30\n",
       "9   python (programming language)                23\n",
       "10                        reptile                60\n",
       "11                    impala lamb                25\n",
       "12                           soup                11"
      ]
     },
     "execution_count": 1677,
     "metadata": {},
     "output_type": "execute_result"
    }
   ],
   "source": [
    "pd_tag_video = pd.DataFrame(tag_video,columns=tag_video_columns)\n",
    "pd_tag_video.head(20)"
   ]
  },
  {
   "cell_type": "code",
   "execution_count": 1679,
   "metadata": {},
   "outputs": [
    {
     "data": {
      "text/html": [
       "<div>\n",
       "<style scoped>\n",
       "    .dataframe tbody tr th:only-of-type {\n",
       "        vertical-align: middle;\n",
       "    }\n",
       "\n",
       "    .dataframe tbody tr th {\n",
       "        vertical-align: top;\n",
       "    }\n",
       "\n",
       "    .dataframe thead th {\n",
       "        text-align: right;\n",
       "    }\n",
       "</style>\n",
       "<table border=\"1\" class=\"dataframe\">\n",
       "  <thead>\n",
       "    <tr style=\"text-align: right;\">\n",
       "      <th></th>\n",
       "      <th>tag</th>\n",
       "      <th>video_duration</th>\n",
       "    </tr>\n",
       "  </thead>\n",
       "  <tbody>\n",
       "    <tr>\n",
       "      <th>0</th>\n",
       "      <td>alligator</td>\n",
       "      <td>180</td>\n",
       "    </tr>\n",
       "    <tr>\n",
       "      <th>1</th>\n",
       "      <td>larva song</td>\n",
       "      <td>1756</td>\n",
       "    </tr>\n",
       "    <tr>\n",
       "      <th>2</th>\n",
       "      <td>reality show</td>\n",
       "      <td>165</td>\n",
       "    </tr>\n",
       "    <tr>\n",
       "      <th>3</th>\n",
       "      <td>lighter</td>\n",
       "      <td>654</td>\n",
       "    </tr>\n",
       "    <tr>\n",
       "      <th>4</th>\n",
       "      <td>prehistoricpetstv</td>\n",
       "      <td>1443</td>\n",
       "    </tr>\n",
       "    <tr>\n",
       "      <th>5</th>\n",
       "      <td>python language</td>\n",
       "      <td>14400</td>\n",
       "    </tr>\n",
       "    <tr>\n",
       "      <th>6</th>\n",
       "      <td>Life</td>\n",
       "      <td>56</td>\n",
       "    </tr>\n",
       "    <tr>\n",
       "      <th>7</th>\n",
       "      <td>pet</td>\n",
       "      <td>310</td>\n",
       "    </tr>\n",
       "    <tr>\n",
       "      <th>8</th>\n",
       "      <td>Eric Idle</td>\n",
       "      <td>266</td>\n",
       "    </tr>\n",
       "    <tr>\n",
       "      <th>9</th>\n",
       "      <td>python (programming language)</td>\n",
       "      <td>21600</td>\n",
       "    </tr>\n",
       "    <tr>\n",
       "      <th>10</th>\n",
       "      <td>reptile</td>\n",
       "      <td>664</td>\n",
       "    </tr>\n",
       "    <tr>\n",
       "      <th>11</th>\n",
       "      <td>impala lamb</td>\n",
       "      <td>111</td>\n",
       "    </tr>\n",
       "    <tr>\n",
       "      <th>12</th>\n",
       "      <td>soup</td>\n",
       "      <td>1890</td>\n",
       "    </tr>\n",
       "  </tbody>\n",
       "</table>\n",
       "</div>"
      ],
      "text/plain": [
       "                              tag video_duration\n",
       "0                       alligator            180\n",
       "1                      larva song           1756\n",
       "2                    reality show            165\n",
       "3                         lighter            654\n",
       "4               prehistoricpetstv           1443\n",
       "5                 python language          14400\n",
       "6                            Life             56\n",
       "7                             pet            310\n",
       "8                       Eric Idle            266\n",
       "9   python (programming language)          21600\n",
       "10                        reptile            664\n",
       "11                    impala lamb            111\n",
       "12                           soup           1890"
      ]
     },
     "execution_count": 1679,
     "metadata": {},
     "output_type": "execute_result"
    }
   ],
   "source": [
    "pd_tag_video_duration = pd.DataFrame(tag_video_duration,columns=tag_video_duration_cols)\n",
    "pd_tag_video_duration.head(20)"
   ]
  },
  {
   "cell_type": "code",
   "execution_count": 1680,
   "metadata": {},
   "outputs": [
    {
     "data": {
      "text/plain": [
       "13"
      ]
     },
     "execution_count": 1680,
     "metadata": {},
     "output_type": "execute_result"
    }
   ],
   "source": [
    "number_of_tags = pd_tag_video['tag'].count()\n",
    "number_of_tags"
   ]
  },
  {
   "cell_type": "code",
   "execution_count": 837,
   "metadata": {},
   "outputs": [
    {
     "data": {
      "text/html": [
       "<div>\n",
       "<style scoped>\n",
       "    .dataframe tbody tr th:only-of-type {\n",
       "        vertical-align: middle;\n",
       "    }\n",
       "\n",
       "    .dataframe tbody tr th {\n",
       "        vertical-align: top;\n",
       "    }\n",
       "\n",
       "    .dataframe thead th {\n",
       "        text-align: right;\n",
       "    }\n",
       "</style>\n",
       "<table border=\"1\" class=\"dataframe\">\n",
       "  <thead>\n",
       "    <tr style=\"text-align: right;\">\n",
       "      <th></th>\n",
       "      <th>tag</th>\n",
       "      <th>number of videos</th>\n",
       "    </tr>\n",
       "  </thead>\n",
       "  <tbody>\n",
       "    <tr>\n",
       "      <th>2</th>\n",
       "      <td>snake</td>\n",
       "      <td>63</td>\n",
       "    </tr>\n",
       "  </tbody>\n",
       "</table>\n",
       "</div>"
      ],
      "text/plain": [
       "     tag  number of videos\n",
       "2  snake                63"
      ]
     },
     "execution_count": 837,
     "metadata": {},
     "output_type": "execute_result"
    }
   ],
   "source": [
    "tag_most_vidoes = pd_tag_video[pd_tag_video['number of videos'] ==pd_tag_video['number of videos'].max()]\n",
    "tag_most_vidoes "
   ]
  },
  {
   "cell_type": "code",
   "execution_count": 838,
   "metadata": {},
   "outputs": [
    {
     "data": {
      "text/html": [
       "<div>\n",
       "<style scoped>\n",
       "    .dataframe tbody tr th:only-of-type {\n",
       "        vertical-align: middle;\n",
       "    }\n",
       "\n",
       "    .dataframe tbody tr th {\n",
       "        vertical-align: top;\n",
       "    }\n",
       "\n",
       "    .dataframe thead th {\n",
       "        text-align: right;\n",
       "    }\n",
       "</style>\n",
       "<table border=\"1\" class=\"dataframe\">\n",
       "  <thead>\n",
       "    <tr style=\"text-align: right;\">\n",
       "      <th></th>\n",
       "      <th>tag</th>\n",
       "      <th>number of videos</th>\n",
       "    </tr>\n",
       "  </thead>\n",
       "  <tbody>\n",
       "    <tr>\n",
       "      <th>8</th>\n",
       "      <td>soup</td>\n",
       "      <td>11</td>\n",
       "    </tr>\n",
       "  </tbody>\n",
       "</table>\n",
       "</div>"
      ],
      "text/plain": [
       "    tag  number of videos\n",
       "8  soup                11"
      ]
     },
     "execution_count": 838,
     "metadata": {},
     "output_type": "execute_result"
    }
   ],
   "source": [
    "tag_least_vidoes = pd_tag_video[pd_tag_video['number of videos'] ==pd_tag_video['number of videos'].min()]\n",
    "tag_least_vidoes "
   ]
  },
  {
   "cell_type": "code",
   "execution_count": null,
   "metadata": {},
   "outputs": [],
   "source": []
  },
  {
   "cell_type": "code",
   "execution_count": 735,
   "metadata": {},
   "outputs": [],
   "source": [
    "# export data to csv or excel "
   ]
  },
  {
   "cell_type": "code",
   "execution_count": 1738,
   "metadata": {},
   "outputs": [],
   "source": [
    "# csv "
   ]
  },
  {
   "cell_type": "code",
   "execution_count": 1769,
   "metadata": {},
   "outputs": [
    {
     "name": "stdout",
     "output_type": "stream",
     "text": [
      "CSV VS TAG VIDEO REPORT FILE GENERATED\n"
     ]
    }
   ],
   "source": [
    "pd_tag_video_to_csv = pd_tag_video.to_csv(f'{file_directory}/tag_vs_videos.csv', \n",
    "                                          encoding='utf-8', header = True,\n",
    "         doublequote = True, sep=',', index=False)\n",
    "\n",
    "print('CSV VS TAG VIDEO REPORT FILE GENERATED')"
   ]
  },
  {
   "cell_type": "code",
   "execution_count": 747,
   "metadata": {},
   "outputs": [],
   "source": [
    "# excel "
   ]
  },
  {
   "cell_type": "code",
   "execution_count": 1770,
   "metadata": {},
   "outputs": [
    {
     "name": "stdout",
     "output_type": "stream",
     "text": [
      "EXCEL TAG VS VIDEO REPORT FILE GENERATED\n"
     ]
    }
   ],
   "source": [
    "pd_tag_video_to_excel = pd_tag_video.to_excel(f'{file_directory}/tag_vs_videos.xlsx',\n",
    "                                              sheet_name='tag_videos_report', header = True, index=False)\n",
    "print('EXCEL TAG VS VIDEO REPORT FILE GENERATED')"
   ]
  },
  {
   "cell_type": "code",
   "execution_count": 1771,
   "metadata": {},
   "outputs": [
    {
     "name": "stdout",
     "output_type": "stream",
     "text": [
      "EXCEL TAG VS AVG VIDEO DURATION FILE GENERATED\n"
     ]
    }
   ],
   "source": [
    "pd_tag_video_duration_excel = pd_tag_video_duration.to_excel(f'{file_directory}/tag_vs_avg_video_duration.xlsx',\n",
    "                                              sheet_name='tag_videos_duration', header = True, index=False)\n",
    "print('EXCEL TAG VS AVG VIDEO DURATION FILE GENERATED')"
   ]
  },
  {
   "cell_type": "markdown",
   "metadata": {},
   "source": [
    "##### BAR GRAPH   Tag Vs Videos"
   ]
  },
  {
   "cell_type": "code",
   "execution_count": 794,
   "metadata": {},
   "outputs": [],
   "source": [
    "labels= list(pd_tag_video['tag'])"
   ]
  },
  {
   "cell_type": "code",
   "execution_count": 804,
   "metadata": {},
   "outputs": [
    {
     "data": {
      "text/plain": [
       "Text(0.5, 0, 'tag')"
      ]
     },
     "execution_count": 804,
     "metadata": {},
     "output_type": "execute_result"
    },
    {
     "data": {
      "image/png": "[encoded data removed]",
      "text/plain": [
       "<Figure size 432x288 with 1 Axes>"
      ]
     },
     "metadata": {
      "needs_background": "light"
     },
     "output_type": "display_data"
    }
   ],
   "source": [
    "plt.bar(labels,pd_tag_video['number of videos'])\n",
    "plt.title('Histogram of Tag Vs Videos') # add a title to the histogram\n",
    "plt.ylabel('number of videos')\n",
    "plt.xlabel('tag') \n"
   ]
  },
  {
   "cell_type": "code",
   "execution_count": null,
   "metadata": {},
   "outputs": [],
   "source": []
  },
  {
   "cell_type": "code",
   "execution_count": 814,
   "metadata": {},
   "outputs": [
    {
     "data": {
      "text/plain": [
       "pandas.core.series.Series"
      ]
     },
     "execution_count": 814,
     "metadata": {},
     "output_type": "execute_result"
    }
   ],
   "source": [
    "type(tag_most_vidoes)"
   ]
  },
  {
   "cell_type": "markdown",
   "metadata": {},
   "source": [
    "### REPORT "
   ]
  },
  {
   "cell_type": "code",
   "execution_count": 1684,
   "metadata": {},
   "outputs": [
    {
     "name": "stdout",
     "output_type": "stream",
     "text": [
      "TAG VS VIDEOS                               tag  number of videos\n",
      "0                       alligator                35\n",
      "1                      larva song                29\n",
      "2                    reality show                29\n",
      "3                         lighter                14\n",
      "4               prehistoricpetstv                21\n",
      "5                 python language                14\n",
      "6                            Life                30\n",
      "7                             pet                38\n",
      "8                       Eric Idle                30\n",
      "9   python (programming language)                23\n",
      "10                        reptile                60\n",
      "11                    impala lamb                25\n",
      "12                           soup                11\n"
     ]
    }
   ],
   "source": [
    "print('TAG VS VIDEOS',pd_tag_video)"
   ]
  },
  {
   "cell_type": "code",
   "execution_count": 1685,
   "metadata": {},
   "outputs": [
    {
     "name": "stdout",
     "output_type": "stream",
     "text": [
      "TAG VS AVG VIDEO DURATION                               tag video_duration\n",
      "0                       alligator            180\n",
      "1                      larva song           1756\n",
      "2                    reality show            165\n",
      "3                         lighter            654\n",
      "4               prehistoricpetstv           1443\n",
      "5                 python language          14400\n",
      "6                            Life             56\n",
      "7                             pet            310\n",
      "8                       Eric Idle            266\n",
      "9   python (programming language)          21600\n",
      "10                        reptile            664\n",
      "11                    impala lamb            111\n",
      "12                           soup           1890\n"
     ]
    }
   ],
   "source": [
    "print('TAG VS AVG VIDEO DURATION',pd_tag_video_duration)"
   ]
  },
  {
   "cell_type": "code",
   "execution_count": 840,
   "metadata": {},
   "outputs": [
    {
     "name": "stdout",
     "output_type": "stream",
     "text": [
      "Tag with most videos : 2    snake\n",
      "Name: tag, dtype: object\n"
     ]
    }
   ],
   "source": [
    "print('Tag with most videos',':',tag_most_vidoes.tag)\n"
   ]
  },
  {
   "cell_type": "code",
   "execution_count": 841,
   "metadata": {},
   "outputs": [
    {
     "name": "stdout",
     "output_type": "stream",
     "text": [
      "Tag with Least videos :  8    soup\n",
      "Name: tag, dtype: object\n"
     ]
    }
   ],
   "source": [
    "print('Tag with Least videos',': ',tag_least_vidoes.tag)\n"
   ]
  },
  {
   "cell_type": "code",
   "execution_count": null,
   "metadata": {},
   "outputs": [],
   "source": []
  },
  {
   "cell_type": "code",
   "execution_count": 1673,
   "metadata": {},
   "outputs": [
    {
     "name": "stdout",
     "output_type": "stream",
     "text": [
      "Database connection closed.\n"
     ]
    }
   ],
   "source": [
    "\n",
    "pg_conn.close()\n",
    "print('Database connection closed.')\n"
   ]
  },
  {
   "cell_type": "code",
   "execution_count": null,
   "metadata": {},
   "outputs": [],
   "source": []
  }
 ],
 "metadata": {
  "kernelspec": {
   "display_name": "Python 3",
   "language": "python",
   "name": "python3"
  },
  "language_info": {
   "codemirror_mode": {
    "name": "ipython",
    "version": 3
   },
   "file_extension": ".py",
   "mimetype": "text/x-python",
   "name": "python",
   "nbconvert_exporter": "python",
   "pygments_lexer": "ipython3",
   "version": "3.7.4"
  }
 },
 "nbformat": 4,
 "nbformat_minor": 2
}
